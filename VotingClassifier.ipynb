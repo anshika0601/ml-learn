{
  "nbformat": 4,
  "nbformat_minor": 0,
  "metadata": {
    "colab": {
      "provenance": [],
      "authorship_tag": "ABX9TyPSo70C/dt5tZwgQglhFw1O",
      "include_colab_link": true
    },
    "kernelspec": {
      "name": "python3",
      "display_name": "Python 3"
    },
    "language_info": {
      "name": "python"
    }
  },
  "cells": [
    {
      "cell_type": "markdown",
      "metadata": {
        "id": "view-in-github",
        "colab_type": "text"
      },
      "source": [
        "<a href=\"https://colab.research.google.com/github/anshika0601/ml-learn/blob/main/VotingClassifier.ipynb\" target=\"_parent\"><img src=\"https://colab.research.google.com/assets/colab-badge.svg\" alt=\"Open In Colab\"/></a>"
      ]
    },
    {
      "cell_type": "code",
      "execution_count": 1,
      "metadata": {
        "colab": {
          "base_uri": "https://localhost:8080/"
        },
        "id": "yXqlyXwCARfn",
        "outputId": "a262e239-1aad-4337-99ad-cf94945ef2ac"
      },
      "outputs": [
        {
          "output_type": "stream",
          "name": "stdout",
          "text": [
            "Hard Voting Accuracy: 0.8041958041958042\n",
            "Soft Voting Accuracy: 0.8111888111888111\n"
          ]
        }
      ],
      "source": [
        "import pandas as pd\n",
        "import seaborn as sns\n",
        "from sklearn.model_selection import train_test_split\n",
        "from sklearn.preprocessing import StandardScaler\n",
        "from sklearn.ensemble import VotingClassifier, RandomForestClassifier\n",
        "from sklearn.linear_model import LogisticRegression\n",
        "from sklearn.svm import SVC\n",
        "from sklearn.metrics import accuracy_score\n",
        "\n",
        "# Load Titanic dataset\n",
        "titanic = sns.load_dataset(\"titanic\")\n",
        "features = [\"pclass\", \"sex\", \"age\", \"fare\", \"sibsp\", \"parch\", \"embarked\"]\n",
        "df = titanic[features + [\"survived\"]].dropna()\n",
        "\n",
        "# Encode categorical\n",
        "df = pd.get_dummies(df, columns=[\"sex\", \"embarked\"], drop_first=True)\n",
        "\n",
        "X = df.drop(\"survived\", axis=1)\n",
        "y = df[\"survived\"]\n",
        "\n",
        "X_train, X_test, y_train, y_test = train_test_split(X, y, test_size=0.2, random_state=42)\n",
        "\n",
        "# Scale for SVM\n",
        "scaler = StandardScaler()\n",
        "X_train_scaled = scaler.fit_transform(X_train)\n",
        "X_test_scaled = scaler.transform(X_test)\n",
        "\n",
        "# Base models\n",
        "log_clf = LogisticRegression(max_iter=1000, random_state=42)\n",
        "rf_clf = RandomForestClassifier(n_estimators=100, random_state=42)\n",
        "svm_clf = SVC(probability=True, random_state=42)\n",
        "\n",
        "# Hard Voting\n",
        "voting_hard = VotingClassifier(\n",
        "    estimators=[(\"lr\", log_clf), (\"rf\", rf_clf), (\"svm\", svm_clf)],\n",
        "    voting=\"hard\"\n",
        ")\n",
        "voting_hard.fit(X_train_scaled, y_train)\n",
        "hard_pred = voting_hard.predict(X_test_scaled)\n",
        "print(\"Hard Voting Accuracy:\", accuracy_score(y_test, hard_pred))\n",
        "\n",
        "# Soft Voting\n",
        "voting_soft = VotingClassifier(\n",
        "    estimators=[(\"lr\", log_clf), (\"rf\", rf_clf), (\"svm\", svm_clf)],\n",
        "    voting=\"soft\"\n",
        ")\n",
        "voting_soft.fit(X_train_scaled, y_train)\n",
        "soft_pred = voting_soft.predict(X_test_scaled)\n",
        "print(\"Soft Voting Accuracy:\", accuracy_score(y_test, soft_pred))\n"
      ]
    }
  ]
}