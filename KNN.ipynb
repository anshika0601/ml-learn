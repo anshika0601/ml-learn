{
  "nbformat": 4,
  "nbformat_minor": 0,
  "metadata": {
    "colab": {
      "provenance": [],
      "gpuType": "T4",
      "authorship_tag": "ABX9TyNRBxdc1TAt9KboyBZz4eKV",
      "include_colab_link": true
    },
    "kernelspec": {
      "name": "python3",
      "display_name": "Python 3"
    },
    "language_info": {
      "name": "python"
    },
    "accelerator": "GPU"
  },
  "cells": [
    {
      "cell_type": "markdown",
      "metadata": {
        "id": "view-in-github",
        "colab_type": "text"
      },
      "source": [
        "<a href=\"https://colab.research.google.com/github/anshika0601/ml-learn/blob/main/KNN.ipynb\" target=\"_parent\"><img src=\"https://colab.research.google.com/assets/colab-badge.svg\" alt=\"Open In Colab\"/></a>"
      ]
    },
    {
      "cell_type": "markdown",
      "source": [
        "working on imbalanced data"
      ],
      "metadata": {
        "id": "dokT0IkAIWHg"
      }
    },
    {
      "cell_type": "code",
      "source": [
        "import pandas as pd\n",
        "from sklearn.model_selection import train_test_split\n",
        "from sklearn.preprocessing import StandardScaler\n",
        "from sklearn.neighbors import KNeighborsClassifier\n",
        "from sklearn.metrics import accuracy_score, classification_report, confusion_matrix, roc_auc_score\n",
        "\n",
        "\n",
        "# Load dataset\n",
        "df = pd.read_csv(\"creditcard.csv\")\n",
        "print(df.head())\n",
        "print(df['Class'].value_counts(normalize=True))\n",
        "\n",
        "# Drop rows with NaN values in the 'Class' column\n",
        "df.dropna(subset=['Class'], inplace=True)\n",
        "\n",
        "X = df.drop(\"Class\", axis=1)\n",
        "y = df[\"Class\"]\n",
        "\n",
        "X_train, X_test, y_train, y_test = train_test_split(X, y, test_size=0.2, stratify=y, random_state=42)\n",
        "\n",
        "# Scale features\n",
        "scaler = StandardScaler()\n",
        "X_train = scaler.fit_transform(X_train)\n",
        "X_test = scaler.transform(X_test)\n",
        "\n",
        "#knn model\n",
        "knn = KNeighborsClassifier(n_neighbors=5, weights='distance')\n",
        "knn.fit(X_train, y_train)\n",
        "\n",
        "#predict\n",
        "y_pred = knn.predict(X_test)\n",
        "\n",
        "#evaluation\n",
        "print(\"Accuracy:\", accuracy_score(y_test, y_pred))\n",
        "print(\"Confusion Matrix:\\n\", confusion_matrix(y_test, y_pred))\n",
        "print(\"Classification Report:\\n\", classification_report(y_test, y_pred, digits=4))\n",
        "\n",
        "# Probabilities for ROC-AUC\n",
        "y_proba = knn.predict_proba(X_test)[:,1]\n",
        "print(\"ROC-AUC:\", roc_auc_score(y_test, y_proba))\n",
        "\n",
        "from sklearn.model_selection import cross_val_score\n",
        "\n",
        "for k in [3, 5, 7, 11, 15, 21]:\n",
        "    model = KNeighborsClassifier(n_neighbors=k, weights='distance')\n",
        "    scores = cross_val_score(model, X, y, cv=5, scoring='roc_auc')\n",
        "    print(f\"K={k}, Mean CV ROC-AUC={scores.mean():.4f}\")"
      ],
      "metadata": {
        "colab": {
          "base_uri": "https://localhost:8080/"
        },
        "id": "Lb_Y8LmkIZyc",
        "outputId": "557a1469-1b84-4adb-abf3-e3416f5b700c"
      },
      "execution_count": 4,
      "outputs": [
        {
          "output_type": "stream",
          "name": "stdout",
          "text": [
            "   Time        V1        V2        V3        V4        V5        V6        V7  \\\n",
            "0     0 -1.359807 -0.072781  2.536347  1.378155 -0.338321  0.462388  0.239599   \n",
            "1     0  1.191857  0.266151  0.166480  0.448154  0.060018 -0.082361 -0.078803   \n",
            "2     1 -1.358354 -1.340163  1.773209  0.379780 -0.503198  1.800499  0.791461   \n",
            "3     1 -0.966272 -0.185226  1.792993 -0.863291 -0.010309  1.247203  0.237609   \n",
            "4     2 -1.158233  0.877737  1.548718  0.403034 -0.407193  0.095921  0.592941   \n",
            "\n",
            "         V8        V9  ...       V21       V22       V23       V24       V25  \\\n",
            "0  0.098698  0.363787  ... -0.018307  0.277838 -0.110474  0.066928  0.128539   \n",
            "1  0.085102 -0.255425  ... -0.225775 -0.638672  0.101288 -0.339846  0.167170   \n",
            "2  0.247676 -1.514654  ...  0.247998  0.771679  0.909412 -0.689281 -0.327642   \n",
            "3  0.377436 -1.387024  ... -0.108300  0.005274 -0.190321 -1.175575  0.647376   \n",
            "4 -0.270533  0.817739  ... -0.009431  0.798278 -0.137458  0.141267 -0.206010   \n",
            "\n",
            "        V26       V27       V28  Amount  Class  \n",
            "0 -0.189115  0.133558 -0.021053  149.62    0.0  \n",
            "1  0.125895 -0.008983  0.014724    2.69    0.0  \n",
            "2 -0.139097 -0.055353 -0.059752  378.66    0.0  \n",
            "3 -0.221929  0.062723  0.061458  123.50    0.0  \n",
            "4  0.502292  0.219422  0.215153   69.99    0.0  \n",
            "\n",
            "[5 rows x 31 columns]\n",
            "Class\n",
            "0.0    0.995419\n",
            "1.0    0.004581\n",
            "Name: proportion, dtype: float64\n",
            "Accuracy: 0.9981173517414497\n",
            "Confusion Matrix:\n",
            " [[3172    0]\n",
            " [   6    9]]\n",
            "Classification Report:\n",
            "               precision    recall  f1-score   support\n",
            "\n",
            "         0.0     0.9981    1.0000    0.9991      3172\n",
            "         1.0     1.0000    0.6000    0.7500        15\n",
            "\n",
            "    accuracy                         0.9981      3187\n",
            "   macro avg     0.9991    0.8000    0.8745      3187\n",
            "weighted avg     0.9981    0.9981    0.9979      3187\n",
            "\n",
            "ROC-AUC: 0.8997162673392183\n",
            "K=3, Mean CV ROC-AUC=0.3929\n",
            "K=5, Mean CV ROC-AUC=0.3679\n",
            "K=7, Mean CV ROC-AUC=0.3645\n",
            "K=11, Mean CV ROC-AUC=0.3639\n",
            "K=15, Mean CV ROC-AUC=0.3634\n",
            "K=21, Mean CV ROC-AUC=0.3627\n"
          ]
        }
      ]
    },
    {
      "cell_type": "markdown",
      "source": [
        "working on balanced data using SMOTE"
      ],
      "metadata": {
        "id": "IZs8jPXsIfLK"
      }
    },
    {
      "cell_type": "code",
      "source": [
        "from imblearn.over_sampling import SMOTE\n",
        "# Apply SMOTE\n",
        "smote = SMOTE(random_state=42)\n",
        "X_train_resampled, y_train_resampled = smote.fit_resample(X_train, y_train)\n",
        "\n",
        "print(\"Before SMOTE:\", y_train.value_counts())\n",
        "print(\"After SMOTE:\", y_train_resampled.value_counts())\n",
        "\n",
        "\n",
        "knn = KNeighborsClassifier(n_neighbors=5, weights='distance')\n",
        "knn.fit(X_train_resampled, y_train_resampled)\n",
        "\n",
        "y_pred = knn.predict(X_test)\n",
        "\n",
        "\n",
        "print(\"Confusion Matrix:\\n\", confusion_matrix(y_test, y_pred))\n",
        "print(\"Classification Report:\\n\", classification_report(y_test, y_pred, digits=4))\n",
        "\n",
        "# Probabilities for ROC-AUC\n",
        "y_proba = knn.predict_proba(X_test)[:,1]\n",
        "print(\"ROC-AUC:\", roc_auc_score(y_test, y_proba))\n",
        "\n",
        "from sklearn.model_selection import cross_val_score\n",
        "\n",
        "for k in [3, 5, 7, 11, 15, 21]:\n",
        "    model = KNeighborsClassifier(n_neighbors=k, weights='distance')\n",
        "    scores = cross_val_score(model, X, y, cv=5, scoring='roc_auc')\n",
        "    print(f\"K={k}, Mean CV ROC-AUC={scores.mean():.4f}\")"
      ],
      "metadata": {
        "colab": {
          "base_uri": "https://localhost:8080/"
        },
        "id": "5hEPEM1mIoU-",
        "outputId": "858838eb-a5e0-48fc-b295-92519f86bd2c"
      },
      "execution_count": 6,
      "outputs": [
        {
          "output_type": "stream",
          "name": "stdout",
          "text": [
            "Before SMOTE: Class\n",
            "0.0    12690\n",
            "1.0       58\n",
            "Name: count, dtype: int64\n",
            "After SMOTE: Class\n",
            "0.0    12690\n",
            "1.0    12690\n",
            "Name: count, dtype: int64\n",
            "Confusion Matrix:\n",
            " [[3169    3]\n",
            " [   3   12]]\n",
            "Classification Report:\n",
            "               precision    recall  f1-score   support\n",
            "\n",
            "         0.0     0.9991    0.9991    0.9991      3172\n",
            "         1.0     0.8000    0.8000    0.8000        15\n",
            "\n",
            "    accuracy                         0.9981      3187\n",
            "   macro avg     0.8995    0.8995    0.8995      3187\n",
            "weighted avg     0.9981    0.9981    0.9981      3187\n",
            "\n",
            "ROC-AUC: 0.9328709541824296\n",
            "K=3, Mean CV ROC-AUC=0.3929\n",
            "K=5, Mean CV ROC-AUC=0.3679\n",
            "K=7, Mean CV ROC-AUC=0.3645\n",
            "K=11, Mean CV ROC-AUC=0.3639\n",
            "K=15, Mean CV ROC-AUC=0.3634\n",
            "K=21, Mean CV ROC-AUC=0.3627\n"
          ]
        }
      ]
    },
    {
      "cell_type": "code",
      "source": [
        "!pip install imbalanced-learn\n"
      ],
      "metadata": {
        "colab": {
          "base_uri": "https://localhost:8080/"
        },
        "id": "KJdWsvM1IpMn",
        "outputId": "4b560c1e-654b-4a8d-df8a-86bb4781767d"
      },
      "execution_count": 1,
      "outputs": [
        {
          "output_type": "stream",
          "name": "stdout",
          "text": [
            "Requirement already satisfied: imbalanced-learn in /usr/local/lib/python3.12/dist-packages (0.14.0)\n",
            "Requirement already satisfied: numpy<3,>=1.25.2 in /usr/local/lib/python3.12/dist-packages (from imbalanced-learn) (2.0.2)\n",
            "Requirement already satisfied: scipy<2,>=1.11.4 in /usr/local/lib/python3.12/dist-packages (from imbalanced-learn) (1.16.1)\n",
            "Requirement already satisfied: scikit-learn<2,>=1.4.2 in /usr/local/lib/python3.12/dist-packages (from imbalanced-learn) (1.6.1)\n",
            "Requirement already satisfied: joblib<2,>=1.2.0 in /usr/local/lib/python3.12/dist-packages (from imbalanced-learn) (1.5.2)\n",
            "Requirement already satisfied: threadpoolctl<4,>=2.0.0 in /usr/local/lib/python3.12/dist-packages (from imbalanced-learn) (3.6.0)\n"
          ]
        }
      ]
    }
  ]
}